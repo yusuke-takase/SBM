{
 "cells": [
  {
   "cell_type": "code",
   "execution_count": 1,
   "metadata": {},
   "outputs": [],
   "source": [
    "%load_ext autoreload\n",
    "%autoreload 2\n",
    "import litebird_sim as lbs\n",
    "import numpy as np\n",
    "import healpy as hp\n",
    "import sbm\n",
    "import logging\n",
    "import toml\n",
    "from pathlib import Path\n",
    "import matplotlib.pyplot as plt\n",
    "from logging import getLogger, INFO, WARNING, ERROR, CRITICAL\n",
    "logging.basicConfig(level=ERROR)\n",
    "\n",
    "\n",
    "#logger = getLogger(__name__)\n",
    "#logger.setLevel(ERROR)\n",
    "# Load your Imo in litebird_sim\n",
    "\n",
    "CONFIG_PATH = Path.home() / \".config\" / \"litebird_imo\"\n",
    "CONFIG_FILE_PATH = CONFIG_PATH / \"imo.toml\"\n",
    "tomlinfo = toml.load(CONFIG_FILE_PATH)\n",
    "flatfile_location = tomlinfo[\"repositories\"][0][\"location\"]\n",
    "\n",
    "imo_version = \"v2\"\n",
    "imo = lbs.Imo(flatfile_location=flatfile_location)"
   ]
  },
  {
   "cell_type": "code",
   "execution_count": 2,
   "metadata": {},
   "outputs": [],
   "source": [
    "#function to select two (closest to) boresight couple of detectors\n",
    "def detector_list(instrument, channel):\n",
    "    if (\n",
    "        instrument == \"MFT\"\n",
    "        and not channel[3:] == \"119\"\n",
    "        and not channel[3:] == \"166\"\n",
    "    ):\n",
    "        detlist = [\n",
    "            \"001_003_030_00A_\" + channel[3:] + \"_T\",\n",
    "            \"001_003_030_00A_\" + channel[3:] + \"_B\",\n",
    "        ]\n",
    "    elif (\n",
    "        instrument == \"MFT\"\n",
    "        and channel[3:] == \"119\"\n",
    "        or channel[3:] == \"166\"\n",
    "    ):\n",
    "        detlist = [\n",
    "            \"001_001_026_15A_\" + channel[3:] + \"_T\",\n",
    "            \"001_001_026_15A_\" + channel[3:] + \"_B\",\n",
    "        ]\n",
    "    elif (\n",
    "        instrument == \"LFT\"\n",
    "        and channel[3:] == \"040\"\n",
    "        or channel[3:] == \"060\"\n",
    "        or channel == \"L1-078\"\n",
    "    ):\n",
    "        detlist = [\n",
    "            \"000_000_008_UA_\" + channel[3:] + \"_T\",\n",
    "            \"000_000_008_UA_\" + channel[3:] + \"_B\",\n",
    "        ]\n",
    "    elif (\n",
    "        instrument == \"LFT\"\n",
    "        and channel[3:] == \"050\"\n",
    "        or channel == \"L2-068\"\n",
    "        or channel == \"L2-089\"\n",
    "    ):\n",
    "        detlist = [\n",
    "            \"000_000_002_UA_\" + channel[3:] + \"_T\",\n",
    "            \"000_000_002_UA_\" + channel[3:] + \"_B\",\n",
    "        ]\n",
    "    elif (\n",
    "        instrument == \"LFT\"\n",
    "        and channel == \"L3-068\"\n",
    "        or channel == \"L3-089\"\n",
    "        or channel[3:] == \"119\"\n",
    "    ):\n",
    "        detlist = [\n",
    "            \"000_001_035_UB_\" + channel[3:] + \"_T\",\n",
    "            \"000_001_035_UB_\" + channel[3:] + \"_B\",\n",
    "        ]\n",
    "    elif (\n",
    "        instrument == \"LFT\"\n",
    "        and channel == \"L4-078\"\n",
    "        or channel[3:] == \"100\"\n",
    "        or channel[3:] == \"140\"\n",
    "    ):\n",
    "        detlist = [\n",
    "            \"000_001_017_QB_\" + channel[3:] + \"_T\",\n",
    "            \"000_001_017_QB_\" + channel[3:] + \"_B\",\n",
    "        ]\n",
    "    elif (\n",
    "        instrument == \"HFT\"\n",
    "        and channel[3:] == \"235\"\n",
    "        or channel[3:] == \"337\"\n",
    "    ):\n",
    "        detlist = [\n",
    "            \"002_001_069_Q_\" + channel[3:] + \"_T\",\n",
    "            \"002_001_069_Q_\" + channel[3:] + \"_B\",\n",
    "        ]\n",
    "    elif (\n",
    "        instrument == \"HFT\"\n",
    "        and channel[3:] == \"195\"\n",
    "        or channel[3:] == \"280\"\n",
    "    ):\n",
    "        detlist = [\n",
    "            \"002_000_120_Q_\" + channel[3:] + \"_T\",\n",
    "            \"002_000_120_Q_\" + channel[3:] + \"_B\",\n",
    "        ]\n",
    "    elif instrument == \"HFT\" and channel[3:] == \"402\":\n",
    "        detlist = [\n",
    "            \"002_002_000_Q_\" + channel[3:] + \"_T\",\n",
    "            \"002_002_000_Q_\" + channel[3:] + \"_B\",\n",
    "        ]\n",
    "\n",
    "    else:\n",
    "        raise RuntimeError(\"No list of detector provided!\")\n",
    "    return detlist"
   ]
  },
  {
   "cell_type": "code",
   "execution_count": 3,
   "metadata": {},
   "outputs": [
    {
     "name": "stderr",
     "output_type": "stream",
     "text": [
      "\u001b[92mProcessing L1-040\u001b[0m: 100%|\u001b[32m██████████\u001b[0m| 1/1 [00:01<00:00,  1.22s/it]\n",
      "\u001b[92mProcessing L1-040\u001b[0m: 100%|\u001b[32m██████████\u001b[0m| 1/1 [00:01<00:00,  1.25s/it]\n",
      "\u001b[92mProcessing L2-050\u001b[0m: 100%|\u001b[32m██████████\u001b[0m| 1/1 [00:01<00:00,  1.23s/it]\n",
      "\u001b[92mProcessing L2-050\u001b[0m: 100%|\u001b[32m██████████\u001b[0m| 1/1 [00:01<00:00,  1.25s/it]\n",
      "\u001b[92mProcessing L1-060\u001b[0m: 100%|\u001b[32m██████████\u001b[0m| 1/1 [00:01<00:00,  1.23s/it]\n",
      "\u001b[92mProcessing L1-060\u001b[0m: 100%|\u001b[32m██████████\u001b[0m| 1/1 [00:01<00:00,  1.23s/it]\n",
      "\u001b[92mProcessing L3-068\u001b[0m: 100%|\u001b[32m██████████\u001b[0m| 1/1 [00:01<00:00,  1.24s/it]\n",
      "\u001b[92mProcessing L3-068\u001b[0m: 100%|\u001b[32m██████████\u001b[0m| 1/1 [00:01<00:00,  1.27s/it]\n"
     ]
    },
    {
     "name": "stdout",
     "output_type": "stream",
     "text": [
      "CO line 115.271 in the band\n",
      "CO line 115.271 in the band\n"
     ]
    },
    {
     "name": "stderr",
     "output_type": "stream",
     "text": [
      "\u001b[92mProcessing L2-068\u001b[0m: 100%|\u001b[32m██████████\u001b[0m| 1/1 [00:01<00:00,  1.28s/it]\n",
      "\u001b[92mProcessing L2-068\u001b[0m: 100%|\u001b[32m██████████\u001b[0m| 1/1 [00:01<00:00,  1.18s/it]\n",
      "\u001b[92mProcessing L4-078\u001b[0m: 100%|\u001b[32m██████████\u001b[0m| 1/1 [00:01<00:00,  1.29s/it]\n",
      "\u001b[92mProcessing L4-078\u001b[0m: 100%|\u001b[32m██████████\u001b[0m| 1/1 [00:01<00:00,  1.26s/it]\n"
     ]
    },
    {
     "name": "stdout",
     "output_type": "stream",
     "text": [
      "CO line 115.271 in the band\n"
     ]
    },
    {
     "name": "stderr",
     "output_type": "stream",
     "text": [
      "\u001b[92mProcessing L1-078\u001b[0m: 100%|\u001b[32m██████████\u001b[0m| 1/1 [00:01<00:00,  1.29s/it]\n",
      "\u001b[92mProcessing L1-078\u001b[0m: 100%|\u001b[32m██████████\u001b[0m| 1/1 [00:01<00:00,  1.28s/it]\n"
     ]
    },
    {
     "name": "stdout",
     "output_type": "stream",
     "text": [
      "CO line 115.271 in the band\n"
     ]
    },
    {
     "name": "stderr",
     "output_type": "stream",
     "text": [
      "\u001b[92mProcessing L3-089\u001b[0m: 100%|\u001b[32m██████████\u001b[0m| 1/1 [00:01<00:00,  1.29s/it]\n",
      "\u001b[92mProcessing L3-089\u001b[0m: 100%|\u001b[32m██████████\u001b[0m| 1/1 [00:01<00:00,  1.29s/it]\n"
     ]
    },
    {
     "name": "stdout",
     "output_type": "stream",
     "text": [
      "CO line 115.271 in the band\n",
      "CO line 115.271 in the band\n"
     ]
    },
    {
     "name": "stderr",
     "output_type": "stream",
     "text": [
      "\u001b[92mProcessing L2-089\u001b[0m: 100%|\u001b[32m██████████\u001b[0m| 1/1 [00:01<00:00,  1.49s/it]\n",
      "\u001b[92mProcessing L2-089\u001b[0m: 100%|\u001b[32m██████████\u001b[0m| 1/1 [00:01<00:00,  1.32s/it]\n"
     ]
    },
    {
     "name": "stdout",
     "output_type": "stream",
     "text": [
      "CO line 115.271 in the band\n",
      "CO line 115.271 in the band\n"
     ]
    },
    {
     "name": "stderr",
     "output_type": "stream",
     "text": [
      "\u001b[92mProcessing L4-100\u001b[0m: 100%|\u001b[32m██████████\u001b[0m| 1/1 [00:01<00:00,  1.50s/it]\n",
      "\u001b[92mProcessing L4-100\u001b[0m: 100%|\u001b[32m██████████\u001b[0m| 1/1 [00:01<00:00,  1.25s/it]\n"
     ]
    },
    {
     "name": "stdout",
     "output_type": "stream",
     "text": [
      "CO line 115.271 in the band\n",
      "CO line 115.271 in the band\n"
     ]
    },
    {
     "name": "stderr",
     "output_type": "stream",
     "text": [
      "\u001b[92mProcessing L3-119\u001b[0m: 100%|\u001b[32m██████████\u001b[0m| 1/1 [00:01<00:00,  1.52s/it]\n",
      "\u001b[92mProcessing L3-119\u001b[0m: 100%|\u001b[32m██████████\u001b[0m| 1/1 [00:01<00:00,  1.25s/it]\n"
     ]
    },
    {
     "name": "stdout",
     "output_type": "stream",
     "text": [
      "CO line 115.271 in the band\n",
      "CO line 115.271 in the band\n"
     ]
    },
    {
     "name": "stderr",
     "output_type": "stream",
     "text": [
      "\u001b[92mProcessing L4-140\u001b[0m: 100%|\u001b[32m██████████\u001b[0m| 1/1 [00:01<00:00,  1.52s/it]\n",
      "\u001b[92mProcessing L4-140\u001b[0m: 100%|\u001b[32m██████████\u001b[0m| 1/1 [00:01<00:00,  1.25s/it]\n"
     ]
    },
    {
     "name": "stdout",
     "output_type": "stream",
     "text": [
      "CO line 115.271 in the band\n",
      "CO line 115.271 in the band\n"
     ]
    },
    {
     "name": "stderr",
     "output_type": "stream",
     "text": [
      "\u001b[92mProcessing M1-100\u001b[0m: 100%|\u001b[32m██████████\u001b[0m| 1/1 [00:01<00:00,  1.34s/it]\n",
      "\u001b[92mProcessing M1-100\u001b[0m: 100%|\u001b[32m██████████\u001b[0m| 1/1 [00:01<00:00,  1.24s/it]\n"
     ]
    },
    {
     "name": "stdout",
     "output_type": "stream",
     "text": [
      "CO line 115.271 in the band\n",
      "CO line 115.271 in the band\n"
     ]
    },
    {
     "name": "stderr",
     "output_type": "stream",
     "text": [
      "\u001b[92mProcessing M2-119\u001b[0m: 100%|\u001b[32m██████████\u001b[0m| 1/1 [00:01<00:00,  1.48s/it]\n",
      "\u001b[92mProcessing M2-119\u001b[0m: 100%|\u001b[32m██████████\u001b[0m| 1/1 [00:01<00:00,  1.23s/it]\n"
     ]
    },
    {
     "name": "stdout",
     "output_type": "stream",
     "text": [
      "CO line 115.271 in the band\n",
      "CO line 115.271 in the band\n"
     ]
    },
    {
     "name": "stderr",
     "output_type": "stream",
     "text": [
      "\u001b[92mProcessing M1-140\u001b[0m: 100%|\u001b[32m██████████\u001b[0m| 1/1 [00:01<00:00,  1.24s/it]\n",
      "\u001b[92mProcessing M1-140\u001b[0m: 100%|\u001b[32m██████████\u001b[0m| 1/1 [00:01<00:00,  1.28s/it]\n"
     ]
    },
    {
     "name": "stdout",
     "output_type": "stream",
     "text": [
      "CO line 115.271 in the band\n",
      "CO line 230.538 in the band\n",
      "CO line 115.271 in the band\n"
     ]
    },
    {
     "name": "stderr",
     "output_type": "stream",
     "text": [
      "\u001b[92mProcessing M2-166\u001b[0m: 100%|\u001b[32m██████████\u001b[0m| 1/1 [00:01<00:00,  1.48s/it]\n",
      "\u001b[92mProcessing M2-166\u001b[0m: 100%|\u001b[32m██████████\u001b[0m| 1/1 [00:01<00:00,  1.18s/it]\n"
     ]
    },
    {
     "name": "stdout",
     "output_type": "stream",
     "text": [
      "CO line 230.538 in the band\n",
      "CO line 230.538 in the band\n"
     ]
    },
    {
     "name": "stderr",
     "output_type": "stream",
     "text": [
      "\u001b[92mProcessing M1-195\u001b[0m: 100%|\u001b[32m██████████\u001b[0m| 1/1 [00:01<00:00,  1.50s/it]\n",
      "\u001b[92mProcessing M1-195\u001b[0m: 100%|\u001b[32m██████████\u001b[0m| 1/1 [00:01<00:00,  1.17s/it]\n"
     ]
    },
    {
     "name": "stdout",
     "output_type": "stream",
     "text": [
      "CO line 230.538 in the band\n",
      "CO line 230.538 in the band\n"
     ]
    },
    {
     "name": "stderr",
     "output_type": "stream",
     "text": [
      "\u001b[92mProcessing H1-195\u001b[0m: 100%|\u001b[32m██████████\u001b[0m| 1/1 [00:01<00:00,  1.39s/it]\n",
      "\u001b[92mProcessing H1-195\u001b[0m: 100%|\u001b[32m██████████\u001b[0m| 1/1 [00:01<00:00,  1.25s/it]\n"
     ]
    },
    {
     "name": "stdout",
     "output_type": "stream",
     "text": [
      "CO line 230.538 in the band\n",
      "CO line 230.538 in the band\n"
     ]
    },
    {
     "name": "stderr",
     "output_type": "stream",
     "text": [
      "\u001b[92mProcessing H2-235\u001b[0m: 100%|\u001b[32m██████████\u001b[0m| 1/1 [00:01<00:00,  1.39s/it]\n",
      "\u001b[92mProcessing H2-235\u001b[0m: 100%|\u001b[32m██████████\u001b[0m| 1/1 [00:01<00:00,  1.24s/it]\n"
     ]
    },
    {
     "name": "stdout",
     "output_type": "stream",
     "text": [
      "CO line 230.538 in the band\n",
      "CO line 345.796 in the band\n",
      "CO line 230.538 in the band\n",
      "CO line 345.796 in the band\n"
     ]
    },
    {
     "name": "stderr",
     "output_type": "stream",
     "text": [
      "\u001b[92mProcessing H1-280\u001b[0m: 100%|\u001b[32m██████████\u001b[0m| 1/1 [00:01<00:00,  1.85s/it]\n",
      "\u001b[92mProcessing H1-280\u001b[0m: 100%|\u001b[32m██████████\u001b[0m| 1/1 [00:01<00:00,  1.25s/it]\n"
     ]
    },
    {
     "name": "stdout",
     "output_type": "stream",
     "text": [
      "CO line 345.796 in the band\n",
      "CO line 345.796 in the band\n"
     ]
    },
    {
     "name": "stderr",
     "output_type": "stream",
     "text": [
      "\u001b[92mProcessing H2-337\u001b[0m: 100%|\u001b[32m██████████\u001b[0m| 1/1 [00:01<00:00,  1.77s/it]\n",
      "\u001b[92mProcessing H2-337\u001b[0m: 100%|\u001b[32m██████████\u001b[0m| 1/1 [00:01<00:00,  1.19s/it]\n"
     ]
    },
    {
     "name": "stdout",
     "output_type": "stream",
     "text": [
      "CO line 345.796 in the band\n",
      "CO line 345.796 in the band\n"
     ]
    },
    {
     "name": "stderr",
     "output_type": "stream",
     "text": [
      "\u001b[92mProcessing H3-402\u001b[0m: 100%|\u001b[32m██████████\u001b[0m| 1/1 [00:01<00:00,  1.37s/it]\n",
      "\u001b[92mProcessing H3-402\u001b[0m: 100%|\u001b[32m██████████\u001b[0m| 1/1 [00:01<00:00,  1.24s/it]\n"
     ]
    }
   ],
   "source": [
    "syst = sbm.Systematics()\n",
    "freq_maps = []\n",
    "freq_maps_input = []\n",
    "freq_maps_res = []\n",
    "# fg_models = [\"pysm_dust_1\", \"pysm_synch_1\", \"pysm_freefree_1\", \"pysm_ame_1\", \"pysm_co_1\"]\n",
    "fg_models = [\"pysm_dust_1\", \"pysm_synch_1\", \"pysm_co_1\"]\n",
    "\n",
    "# adding gaussian noise on the bandpasses\n",
    "sigma_band = 0.05\n",
    "\n",
    "Mbsparams = lbs.MbsParameters(\n",
    "    make_cmb=False,\n",
    "    cmb_r=0.0,\n",
    "    make_fg=True,\n",
    "    seed_cmb=1234,\n",
    "    fg_models=fg_models,\n",
    "    gaussian_smooth=False,\n",
    "    bandpass_int=False,\n",
    "    nside=128,\n",
    "    units=\"uK_CMB\",\n",
    "    maps_in_ecliptic=False,\n",
    ")\n",
    "\n",
    "np.random.seed(0)\n",
    "for channel in sbm.channel_list:\n",
    "    config = sbm.Configlation(imo, channel)\n",
    "    config.mdim = 2  # 2\n",
    "    config.parallel = True\n",
    "    config.nside = 128\n",
    "    config.xlink_threshold = 0.7  # avoid mapmake in singular pixels\n",
    "    config.use_hwp = False\n",
    "\n",
    "    # Define the telescope\n",
    "    telescope = channel[0] + \"FT\"\n",
    "\n",
    "    # Load the channel info\n",
    "    ch_info = lbs.FreqChannelInfo.from_imo(\n",
    "        url=f\"/releases/{imo_version}/satellite/{telescope}/{channel}/channel_info\",\n",
    "        imo=imo,\n",
    "    )\n",
    "\n",
    "    # detectors = ch_info.detector_names[:6]\n",
    "    detectors = detector_list(telescope, channel)\n",
    "\n",
    "    dets = []\n",
    "    for n_det in detectors:\n",
    "        det = lbs.DetectorInfo.from_imo(\n",
    "            url=f\"/releases/{imo_version}/satellite/{telescope}/{channel}/{n_det}/detector_info\",\n",
    "            imo=imo,\n",
    "        )\n",
    "        dets.append(det)\n",
    "\n",
    "    bandcenter_ghz = dets[0].bandcenter_ghz\n",
    "    bandwidth_ghz = dets[0].bandwidth_ghz\n",
    "\n",
    "    band_low_edge = bandcenter_ghz - bandwidth_ghz / 2.0\n",
    "    band_high_edge = bandcenter_ghz + bandwidth_ghz / 2.0\n",
    "\n",
    "    # generating different bandpasses for each detector\n",
    "    for di, det in enumerate(detectors):\n",
    "        Band = lbs.BandPassInfo(\n",
    "            bandcenter_ghz=bandcenter_ghz,\n",
    "            bandwidth_ghz=0.8\n",
    "            * bandwidth_ghz,  # to have the wings cross the band extremes at ~0.5\n",
    "            bandlow_ghz=max(0, band_low_edge - 50),\n",
    "            bandhigh_ghz=band_high_edge + 50,\n",
    "            bandtype=\"cheby\",\n",
    "            normalize=False,\n",
    "            nsamples_inband=len(\n",
    "                np.arange(max(0, band_low_edge - 50), band_high_edge + 50, 1)\n",
    "            ),  # bandpass sampled from center +- 2width,\n",
    "            # to have a 0.5 GHz resol. we should ask from 4*width points\n",
    "            cheby_ripple_dB=0.2,\n",
    "            cheby_poly_order=3,\n",
    "        )\n",
    "\n",
    "        err_inband = sigma_band * np.random.normal(0.0, 1.0, Band.weights.size)\n",
    "        Band.weights += err_inband\n",
    "\n",
    "        Band.freqs_ghz = Band.freqs_ghz[Band.weights**2 >= 0.01]\n",
    "        Band.weights = (\n",
    "            (Band.weights[Band.weights**2 >= 0.01]) ** 2\n",
    "            / Band.freqs_ghz\n",
    "            / Band.freqs_ghz\n",
    "            / 1e18\n",
    "        )\n",
    "\n",
    "        dets[di].band_freqs_ghz = Band.freqs_ghz\n",
    "        dets[di].band_weights = Band.weights\n",
    "\n",
    "    syst.set_bandpass_mismatch(detectors)\n",
    "\n",
    "    output, input_map = sbm.sim_bandpass_mismatch(\n",
    "        config,\n",
    "        syst,\n",
    "        Mbsparams,\n",
    "        dets,\n",
    "    )\n",
    "    freq_maps.append(output)\n",
    "    freq_maps_input.append(input_map)\n",
    "    freq_maps_res.append(output - input_map)\n",
    "\n",
    "freq_maps_m2 = np.array(freq_maps)\n",
    "freq_maps_input = np.array(freq_maps_input)\n",
    "freq_maps_res = np.array(freq_maps_res)"
   ]
  },
  {
   "cell_type": "code",
   "execution_count": null,
   "metadata": {},
   "outputs": [],
   "source": []
  }
 ],
 "metadata": {
  "kernelspec": {
   "display_name": "pkgdev",
   "language": "python",
   "name": "python3"
  },
  "language_info": {
   "codemirror_mode": {
    "name": "ipython",
    "version": 3
   },
   "file_extension": ".py",
   "mimetype": "text/x-python",
   "name": "python",
   "nbconvert_exporter": "python",
   "pygments_lexer": "ipython3",
   "version": "3.10.16"
  }
 },
 "nbformat": 4,
 "nbformat_minor": 2
}
